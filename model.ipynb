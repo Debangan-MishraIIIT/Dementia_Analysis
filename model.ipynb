{
 "cells": [
  {
   "cell_type": "code",
   "execution_count": 111,
   "metadata": {},
   "outputs": [],
   "source": [
    "import torch\n",
    "from torch import nn\n",
    "import torch.nn.functional as F\n",
    "from torchvision.transforms import Resize"
   ]
  },
  {
   "cell_type": "code",
   "execution_count": 112,
   "metadata": {},
   "outputs": [],
   "source": [
    "class ResidualConvolutionalAttention(nn.Module):\n",
    "    def __init__(self, in_feats, out_feats):\n",
    "        super().__init__()\n",
    "        self.conv = nn.Sequential(\n",
    "            nn.Conv2d(\n",
    "                in_channels=in_feats,\n",
    "                out_channels=out_feats,\n",
    "                kernel_size=3,\n",
    "                stride=1,\n",
    "                padding=\"same\",\n",
    "            ),\n",
    "            nn.BatchNorm2d(num_features=out_feats),\n",
    "            nn.ReLU(),\n",
    "            nn.Conv2d(\n",
    "                in_channels=out_feats,\n",
    "                out_channels=out_feats,\n",
    "                kernel_size=3,\n",
    "                stride=1,\n",
    "                padding=\"same\",\n",
    "            ),\n",
    "            nn.BatchNorm2d(num_features=out_feats),\n",
    "            nn.ReLU(),\n",
    "            nn.Dropout(0.5),\n",
    "            nn.Conv2d(\n",
    "                in_channels=out_feats,\n",
    "                out_channels=out_feats,\n",
    "                kernel_size=3,\n",
    "                stride=1,\n",
    "                padding=\"same\",\n",
    "            ),\n",
    "            nn.BatchNorm2d(num_features=out_feats),\n",
    "            nn.ReLU(),\n",
    "            nn.Conv2d(\n",
    "                in_channels=out_feats, out_channels=out_feats, kernel_size=1, stride=2\n",
    "            ),\n",
    "            nn.BatchNorm2d(num_features=out_feats),\n",
    "            nn.ReLU(),\n",
    "            nn.Dropout(0.5),\n",
    "        )\n",
    "\n",
    "        self.input_downsampler = nn.Conv2d(\n",
    "            in_channels=in_feats, out_channels=out_feats, kernel_size=1, stride=2\n",
    "        )\n",
    "\n",
    "    def forward(self, x):\n",
    "        identity = x\n",
    "        identity = self.input_downsampler(identity)\n",
    "\n",
    "        output = self.conv(x)\n",
    "        output = F.sigmoid(output)\n",
    "\n",
    "        attention_map = output * identity\n",
    "        final_output = identity + output + attention_map\n",
    "\n",
    "        return final_output, attention_map\n",
    "\n",
    "\n",
    "class Network(nn.Module):\n",
    "    def __init__(self, in_channels, out_channels):\n",
    "        super().__init__()\n",
    "        self.RCA1 = ResidualConvolutionalAttention(in_channels, 64)\n",
    "        self.RCA2 = ResidualConvolutionalAttention(64, 128)\n",
    "        self.RCA3 = ResidualConvolutionalAttention(128, 256)\n",
    "        self.Resizer= Resize((32, 32))\n",
    "        self.attention_pooler= nn.Conv2d(in_channels=448, out_channels=256, kernel_size=1, stride=2)\n",
    "\n",
    "        self.final_conv= nn.Sequential(\n",
    "            nn.Conv2d(in_channels=256, out_channels=128, kernel_size=3, stride=1),\n",
    "            nn.AdaptiveAvgPool2d((1,1)),\n",
    "            nn.Flatten(),\n",
    "            nn.Linear(in_features=128, out_features=64),\n",
    "            nn.ReLU(),\n",
    "            nn.Dropout(0.3),\n",
    "            nn.Linear(in_features=64, out_features=32),\n",
    "            nn.ReLU(),\n",
    "            nn.Linear(in_features=32, out_features=out_channels),\n",
    "            nn.Dropout(0.3),\n",
    "        )\n",
    "\n",
    "    def forward(self, x):\n",
    "        x, att1 = self.RCA1(x)\n",
    "        x, att2 = self.RCA2(x)\n",
    "        x, att3 = self.RCA3(x)\n",
    "\n",
    "        att1= self.Resizer(att1)\n",
    "        att2= self.Resizer(att2)\n",
    "        att3= self.Resizer(att3)\n",
    "\n",
    "        pooled_attention= torch.cat((att1, att2, att3), dim=1)\n",
    "        pooled_attention= self.attention_pooler(pooled_attention)\n",
    "        pooled_attention= F.sigmoid(pooled_attention)\n",
    "\n",
    "        final_x= pooled_attention*x\n",
    "        final_x= self.final_conv(final_x)\n",
    "\n",
    "        output= torch.argmax(F.softmax(final_x), dim=1)\n",
    "        return output"
   ]
  },
  {
   "cell_type": "code",
   "execution_count": 113,
   "metadata": {},
   "outputs": [
    {
     "name": "stderr",
     "output_type": "stream",
     "text": [
      "C:\\Users\\deban\\AppData\\Local\\Temp\\ipykernel_10944\\4064062630.py:96: UserWarning: Implicit dimension choice for softmax has been deprecated. Change the call to include dim=X as an argument.\n",
      "  output= torch.argmax(F.softmax(final_x), dim=1)\n"
     ]
    },
    {
     "data": {
      "text/plain": [
       "tensor([1, 1, 1, 1, 1, 0, 1, 1, 1, 1, 0, 1, 1, 1, 0, 1])"
      ]
     },
     "execution_count": 113,
     "metadata": {},
     "output_type": "execute_result"
    }
   ],
   "source": [
    "x= torch.rand(16, 1, 128, 128)\n",
    "mod= Network(1, 2)\n",
    "mod(x)"
   ]
  }
 ],
 "metadata": {
  "kernelspec": {
   "display_name": "Python 3",
   "language": "python",
   "name": "python3"
  },
  "language_info": {
   "codemirror_mode": {
    "name": "ipython",
    "version": 3
   },
   "file_extension": ".py",
   "mimetype": "text/x-python",
   "name": "python",
   "nbconvert_exporter": "python",
   "pygments_lexer": "ipython3",
   "version": "3.12.3"
  }
 },
 "nbformat": 4,
 "nbformat_minor": 2
}
